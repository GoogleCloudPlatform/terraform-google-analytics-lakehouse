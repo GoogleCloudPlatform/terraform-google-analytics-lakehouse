{
 "cells": [
  {
   "cell_type": "code",
   "execution_count": null,
   "metadata": {},
   "outputs": [],
   "source": [
    "!pip install chart-studio\n",
    "!pip install google-cloud-bigquery-connection"
   ]
  },
  {
   "cell_type": "code",
   "execution_count": null,
   "metadata": {},
   "outputs": [],
   "source": [
    "import pandas as pd\n",
    "import numpy as np\n",
    "import scipy.optimize\n",
    "\n",
    "# Import and setup for plotly in Colab\n",
    "import chart_studio\n",
    "import chart_studio.plotly as py\n",
    "import plotly.graph_objects as go\n",
    "import plotly.io as pio\n",
    "import plotly.express as px\n",
    "\n",
    "# Enable displaying pandas data frames as interactive tables by default\n",
    "from google.colab import data_table\n",
    "data_table.enable_dataframe_formatter()"
   ]
  },
  {
   "cell_type": "code",
   "execution_count": null,
   "metadata": {},
   "outputs": [],
   "source": [
    "PROJECT_ID = 'change me'\n",
    "REGION = \"US\""
   ]
  },
  {
   "cell_type": "code",
   "execution_count": null,
   "metadata": {},
   "outputs": [],
   "source": [
    "from google.colab import auth\n",
    "auth.authenticate_user()"
   ]
  },
  {
   "cell_type": "code",
   "execution_count": null,
   "metadata": {},
   "outputs": [],
   "source": [
    "!gcloud config set project {PROJECT_ID}\n",
    "!gcloud config get-value project"
   ]
  },
  {
   "cell_type": "code",
   "execution_count": null,
   "metadata": {},
   "outputs": [],
   "source": [
    "%%bigquery --project {PROJECT_ID}\n",
    "SELECT\n",
    "  o.order_id,\n",
    "  o.user_id order_user_id,\n",
    "  o.status order_status,\n",
    "  o.created_at order_created_at,\n",
    "  o.returned_at order_returned_at,\n",
    "  o.shipped_at order_shipped_at,\n",
    "  o.delivered_at order_delivered_at,\n",
    "  o.num_of_item order_number_of_items,\n",
    "  i.id AS order_items_id,\n",
    "  i.product_id AS order_items_product_id,\n",
    "  i.status order_items_status,\n",
    "  i.sale_price order_items_sale_price,\n",
    "  p.id AS product_id,\n",
    "  p.cost product_cost,\n",
    "  p.category product_category,\n",
    "  p.name product_name,\n",
    "  p.brand product_brand,\n",
    "  p.retail_price product_retail_price,\n",
    "  p.department product_department,\n",
    "  p.sku product_sku,\n",
    "  p.distribution_center_id,\n",
    "  d.name AS dist_center_name,\n",
    "  d.latitude dist_center_lat,\n",
    "  d.longitude dist_center_long,\n",
    "  u.id AS user_id,\n",
    "  u.first_name user_first_name,\n",
    "  u.last_name user_last_name,\n",
    "  u.age user_age,\n",
    "  u.gender user_gender,\n",
    "  u.state user_state,\n",
    "  u.postal_code user_postal_code,\n",
    "  u.city user_city,\n",
    "  u.country user_country,\n",
    "  u.latitude user_lat,\n",
    "  u.longitude user_long,\n",
    "  u.traffic_source user_traffic_source\n",
    "FROM\n",
    "  gcp_lakehouse_ds.gcp_tbl_orders o\n",
    "INNER JOIN\n",
    "  gcp_lakehouse_ds.gcp_tbl_order_items i\n",
    "ON\n",
    "  o.order_id = i.order_id\n",
    "INNER JOIN\n",
    "  gcp_lakehouse_ds.gcp_tbl_products p\n",
    "ON\n",
    "  i.product_id = p.id\n",
    "INNER JOIN\n",
    "  gcp_lakehouse_ds.gcp_tbl_distribution_centers d\n",
    "ON\n",
    "  p.distribution_center_id = d.id\n",
    "INNER JOIN\n",
    "  gcp_lakehouse_ds.gcp_tbl_users u\n",
    "ON\n",
    "  o.user_id = u.id\n",
    "limit 100"
   ]
  },
  {
   "cell_type": "code",
   "execution_count": null,
   "metadata": {},
   "outputs": [],
   "source": [
    "%%bigquery --project {PROJECT_ID}\n",
    "\n",
    "SELECT\n",
    "sum(order_id) as count,\n",
    "  date(o.created_at) date\n",
    "FROM\n",
    "  gcp_lakehouse_ds.gcp_tbl_orders o\n",
    "  group by o.created_at\n",
    "  order by date(o.created_at)\n",
    "  limit 500"
   ]
  },
  {
   "cell_type": "code",
   "execution_count": null,
   "metadata": {},
   "outputs": [],
   "source": [
    "%%bigquery data --project {PROJECT_ID}\n",
    "\n",
    "SELECT\n",
    "sum(order_id) as count,\n",
    "  date(o.created_at) date\n",
    "FROM\n",
    "  gcp_lakehouse_ds.gcp_tbl_orders o\n",
    "  group by o.created_at\n",
    "  order by date(o.created_at)\n",
    "  limit 500"
   ]
  },
  {
   "cell_type": "code",
   "execution_count": null,
   "metadata": {},
   "outputs": [],
   "source": [
    "data['date'] = pd.to_datetime(data['date'])\n",
    "data['date'] = data['date'].astype(np.int64) // 10**9\n",
    "data.head()"
   ]
  },
  {
   "cell_type": "code",
   "execution_count": null,
   "metadata": {},
   "outputs": [],
   "source": [
    "from datetime import datetime\n",
    "\n",
    "fig, ax = plt.subplots(figsize=(20,12))\n",
    "data.plot(x='date', y='count', kind='scatter', ax=ax)\n",
    "ax.set_xticklabels([datetime.fromtimestamp(date).strftime('%Y/%m/%d') for date in ax.get_xticks()])"
   ]
  }
 ],
 "metadata": {
  "language_info": {
   "name": "python"
  },
  "orig_nbformat": 4
 },
 "nbformat": 4,
 "nbformat_minor": 2
}
