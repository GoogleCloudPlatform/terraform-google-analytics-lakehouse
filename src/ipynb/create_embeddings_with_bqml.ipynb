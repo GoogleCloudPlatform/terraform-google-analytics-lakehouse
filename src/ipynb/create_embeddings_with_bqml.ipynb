{
  "cells": [
    {
      "cell_type": "markdown",
      "metadata": {
        "id": "ZEGt2QaYJGla"
      },
      "source": [
        "# Creating embeddings from your data in BigQuery"
      ]
    },
    {
      "cell_type": "markdown",
      "metadata": {
        "id": "8wQb0o3SI6lD"
      },
      "source": [
        "In this notebook you create vector embeddings using image data in your lakehouse using BigQuery ML and Vertex AI.[link text](https://)"
      ]
    },
    {
      "cell_type": "code",
      "execution_count": null,
      "metadata": {
        "colab": {
          "base_uri": "https://localhost:8080/"
        },
        "collapsed": true,
        "executionInfo": {
          "elapsed": 4260,
          "status": "ok",
          "timestamp": 1743625224723,
          "user": {
            "displayName": "",
            "userId": ""
          },
          "user_tz": 240
        },
        "id": "nK2BcVGC7tSh",
        "outputId": "550e3267-0cb3-44ce-cbed-a7fe901065f3"
      },
      "outputs": [],
      "source": [
        "#@title Set your Project ID\n",
        "\n",
        "PROJECT_ID=\"\" # @param {type:\"string\"}\n",
        "!gcloud config set project $PROJECT_ID"
      ]
    },
    {
      "cell_type": "code",
      "execution_count": null,
      "metadata": {
        "executionInfo": {
          "elapsed": 2,
          "status": "ok",
          "timestamp": 1743625191078,
          "user": {
            "displayName": "",
            "userId": ""
          },
          "user_tz": 240
        },
        "id": "Am9RPT_e-ruE"
      },
      "outputs": [],
      "source": [
        "#@title Create a connection to the BigQuery client\n",
        "\n",
        "from google.cloud import bigquery\n",
        "client = bigquery.Client(PROJECT_ID)"
      ]
    },
    {
      "cell_type": "code",
      "execution_count": null,
      "metadata": {
        "executionInfo": {
          "elapsed": 1,
          "status": "ok",
          "timestamp": 1743625191248,
          "user": {
            "displayName": "",
            "userId": ""
          },
          "user_tz": 240
        },
        "id": "CHgWQsn-8HPn"
      },
      "outputs": [],
      "source": [
        "#@title Load a helper function for viewing images in your notebook\n",
        "\n",
        "import io\n",
        "from PIL import Image\n",
        "import matplotlib.pyplot as plt\n",
        "import tensorflow as tf\n",
        "\n",
        "def printImages(results):\n",
        "  image_results_list = list(results)\n",
        "  amt_of_images = len(image_results_list)\n",
        "\n",
        "  fig, axes = plt.subplots(nrows=amt_of_images, ncols=2, figsize=(20, 20))\n",
        "  fig.tight_layout()\n",
        "  fig.subplots_adjust(hspace=0.5)\n",
        "  for i in range(amt_of_images):\n",
        "    gcs_uri = image_results_list[i][0]\n",
        "    text = image_results_list[i][1]\n",
        "    f = tf.io.gfile.GFile(gcs_uri, 'rb')\n",
        "    stream = io.BytesIO(f.read())\n",
        "    img = Image.open(stream)\n",
        "    axes[i, 0].axis('off')\n",
        "    axes[i, 0].imshow(img)\n",
        "    axes[i, 1].axis('off')\n",
        "    axes[i, 1].text(0, 0, text, fontsize=10)\n",
        "  plt.show()"
      ]
    },
    {
      "cell_type": "code",
      "execution_count": null,
      "metadata": {
        "id": "0RjVS8Vy71h0"
      },
      "outputs": [],
      "source": [
        "#@title View images in your dataset\n",
        "\n",
        "display_first_10_images_query = f\"\"\"\n",
        "  SELECT *\n",
        "  FROM ga4_images_{PROJECT_ID.replace(\"-\", \"_\")}.ga4_obfuscated_sample_ecommerce_images\n",
        "  WHERE content_type = 'image/jpeg'\n",
        "  LIMIT 10;\n",
        "\"\"\"\n",
        "printImages(client.query(display_first_10_images_query))"
      ]
    },
    {
      "cell_type": "code",
      "execution_count": null,
      "metadata": {
        "colab": {
          "base_uri": "https://localhost:8080/",
          "height": 85,
          "referenced_widgets": [
            "d57409d78ba74888b4dd118f615eb079",
            "5e1efc6b92454feda5b7f11176581da3",
            "62ad40cc10f14ccf9f253ef2f5b19644",
            "0b91c4b1a4a24b608c04c7b36b773a94",
            "b6eda8434d5649a2aee1f8d66d07b15f",
            "c650882eefce4fc0a9f92babdceac726",
            "58b879353b034e2fb831f47c3ce2640c",
            "ab0222b30f89437d91ec3fb34a04c889",
            "3b9660542c684204a199f76832e2b90b",
            "66ea4426547e478783f42c901667189f",
            "e628e07cf90d4e4aa1078f76b1f3241c"
          ]
        },
        "executionInfo": {
          "elapsed": 2535,
          "status": "ok",
          "timestamp": 1743625294334,
          "user": {
            "displayName": "",
            "userId": ""
          },
          "user_tz": 240
        },
        "id": "WFAya-9t8v9e",
        "outputId": "0f2056cd-fb6f-4071-d71f-383c3689ff20"
      },
      "outputs": [],
      "source": [
        "#@title Create a multimodalembedding model\n",
        "%%bigquery\n",
        "\n",
        "CREATE OR REPLACE MODEL `gcp_lakehouse_ds.embeddings`\n",
        "REMOTE WITH CONNECTION `us-central1.storage`\n",
        "OPTIONS (endpoint=\"multimodalembedding@001\");\n"
      ]
    },
    {
      "cell_type": "code",
      "execution_count": null,
      "metadata": {
        "colab": {
          "base_uri": "https://localhost:8080/"
        },
        "executionInfo": {
          "elapsed": 353,
          "status": "ok",
          "timestamp": 1743625294684,
          "user": {
            "displayName": "",
            "userId": ""
          },
          "user_tz": 240
        },
        "id": "RznAP5i49rDr",
        "outputId": "3c46ab00-c2b8-42b8-f1d3-0692cbbaa1bb"
      },
      "outputs": [],
      "source": [
        "\n",
        "#@title Generate image embeddings from the image object table.\n",
        "%%bigquery\n",
        "\n",
        "embedding_query = f\"\"\"\n",
        "CREATE OR REPLACE TABLE `gcp_lakehouse_ds.ga4_embeddings`\n",
        "AS\n",
        "SELECT *\n",
        "FROM\n",
        "  ML.GENERATE_EMBEDDING(\n",
        "    MODEL `gcp_lakehouse_ds.embeddings`,\n",
        "    (\n",
        "      SELECT * FROM `ga4_images_{PROJECT_ID.replace(\"-\", \"_\")}.ga4_obfuscated_sample_ecommerce_images` WHERE content_type = 'image/jpeg' LIMIT 10000\n",
        "    ));\n",
        "\"\"\"\n",
        "client.query(embedding_query)"
      ]
    },
    {
      "cell_type": "code",
      "execution_count": null,
      "metadata": {
        "id": "0qRk9dJt-Bd7"
      },
      "outputs": [],
      "source": [
        "#@title Show image embedding results.\n",
        "%%bigquery\n",
        "\n",
        "SELECT * FROM `gcp_lakehouse_ds.ga4_embeddings` limit 10;\n"
      ]
    },
    {
      "cell_type": "code",
      "execution_count": null,
      "metadata": {
        "id": "0gaa_tvi-Ljv"
      },
      "outputs": [],
      "source": [
        "#@title Input text prompt: \"give me a best match picture of a water bottle\". Vector search find best match and saves it to a new table.\n",
        "%%bigquery\n",
        "\n",
        "CREATE OR REPLACE TABLE `gcp_lakehouse_ds.vector_search` AS\n",
        "SELECT base.uri AS gcs_uri, distance\n",
        "FROM\n",
        "  VECTOR_SEARCH(\n",
        "    TABLE `gcp_lakehouse_ds.ga4_embeddings`,\n",
        "    \"ml_generate_embedding_result\",\n",
        "    (\n",
        "      SELECT * FROM ML.GENERATE_EMBEDDING(\n",
        "        MODEL `gcp_lakehouse_ds.embeddings`,\n",
        "        (\n",
        "          SELECT \"give me a best match picture of a water bottle\" AS content\n",
        "        )\n",
        "      )\n",
        "    ),\n",
        "    \"ml_generate_embedding_result\",\n",
        "    top_k => 5);"
      ]
    },
    {
      "cell_type": "code",
      "execution_count": null,
      "metadata": {
        "id": "eGWqsn91_IPQ"
      },
      "outputs": [],
      "source": [
        "#@title Perform vector search but without saving to a new table\n",
        "\n",
        "prompt = \"\" # @param {type:\"string\"}\n",
        "\n",
        "#@title Find the best match image.\n",
        "best_match_query = f\"\"\"\n",
        "  SELECT base.uri AS gcs_uri, distance\n",
        "  FROM VECTOR_SEARCH(\n",
        "    TABLE `gcp_lakehouse_ds.ga4_embeddings`,\n",
        "    \"ml_generate_embedding_result\",\n",
        "    (\n",
        "      SELECT * FROM ML.GENERATE_EMBEDDING(\n",
        "        MODEL `gcp_lakehouse_ds.embeddings`,\n",
        "        (\n",
        "          SELECT \"{prompt}\" AS content\n",
        "        )\n",
        "      )\n",
        "    ),\n",
        "    \"ml_generate_embedding_result\",\n",
        "    top_k => 5);\n",
        "\"\"\"\n",
        "\n",
        "printImages(client.query(best_match_query))\n"
      ]
    }
  ],
  "metadata": {
    "colab": {
      "cell_execution_strategy": "setup",
      "name": "Create Embeddings with BQML",
      "provenance": []
    },
    "kernelspec": {
      "display_name": "Python 3",
      "name": "python3"
    },
    "language_info": {
      "name": "python"
    },
    "widgets": {
      "application/vnd.jupyter.widget-state+json": {
        "0b91c4b1a4a24b608c04c7b36b773a94": {
          "model_module": "@jupyter-widgets/controls",
          "model_module_version": "1.5.0",
          "model_name": "HTMLModel",
          "state": {
            "_dom_classes": [],
            "_model_module": "@jupyter-widgets/controls",
            "_model_module_version": "1.5.0",
            "_model_name": "HTMLModel",
            "_view_count": null,
            "_view_module": "@jupyter-widgets/controls",
            "_view_module_version": "1.5.0",
            "_view_name": "HTMLView",
            "description": "",
            "description_tooltip": null,
            "layout": "IPY_MODEL_66ea4426547e478783f42c901667189f",
            "placeholder": "​",
            "style": "IPY_MODEL_e628e07cf90d4e4aa1078f76b1f3241c",
            "value": ""
          }
        },
        "3b9660542c684204a199f76832e2b90b": {
          "model_module": "@jupyter-widgets/controls",
          "model_module_version": "1.5.0",
          "model_name": "ProgressStyleModel",
          "state": {
            "_model_module": "@jupyter-widgets/controls",
            "_model_module_version": "1.5.0",
            "_model_name": "ProgressStyleModel",
            "_view_count": null,
            "_view_module": "@jupyter-widgets/base",
            "_view_module_version": "1.2.0",
            "_view_name": "StyleView",
            "bar_color": null,
            "description_width": ""
          }
        },
        "58b879353b034e2fb831f47c3ce2640c": {
          "model_module": "@jupyter-widgets/controls",
          "model_module_version": "1.5.0",
          "model_name": "DescriptionStyleModel",
          "state": {
            "_model_module": "@jupyter-widgets/controls",
            "_model_module_version": "1.5.0",
            "_model_name": "DescriptionStyleModel",
            "_view_count": null,
            "_view_module": "@jupyter-widgets/base",
            "_view_module_version": "1.2.0",
            "_view_name": "StyleView",
            "description_width": ""
          }
        },
        "5e1efc6b92454feda5b7f11176581da3": {
          "model_module": "@jupyter-widgets/controls",
          "model_module_version": "1.5.0",
          "model_name": "HTMLModel",
          "state": {
            "_dom_classes": [],
            "_model_module": "@jupyter-widgets/controls",
            "_model_module_version": "1.5.0",
            "_model_name": "HTMLModel",
            "_view_count": null,
            "_view_module": "@jupyter-widgets/controls",
            "_view_module_version": "1.5.0",
            "_view_name": "HTMLView",
            "description": "",
            "description_tooltip": null,
            "layout": "IPY_MODEL_c650882eefce4fc0a9f92babdceac726",
            "placeholder": "​",
            "style": "IPY_MODEL_58b879353b034e2fb831f47c3ce2640c",
            "value": "Job ID 5c32a828-98ec-49d5-b047-5e89eba701d2 successfully executed: 100%"
          }
        },
        "62ad40cc10f14ccf9f253ef2f5b19644": {
          "model_module": "@jupyter-widgets/controls",
          "model_module_version": "1.5.0",
          "model_name": "FloatProgressModel",
          "state": {
            "_dom_classes": [],
            "_model_module": "@jupyter-widgets/controls",
            "_model_module_version": "1.5.0",
            "_model_name": "FloatProgressModel",
            "_view_count": null,
            "_view_module": "@jupyter-widgets/controls",
            "_view_module_version": "1.5.0",
            "_view_name": "ProgressView",
            "bar_style": "success",
            "description": "",
            "description_tooltip": null,
            "layout": "IPY_MODEL_ab0222b30f89437d91ec3fb34a04c889",
            "max": 1,
            "min": 0,
            "orientation": "horizontal",
            "style": "IPY_MODEL_3b9660542c684204a199f76832e2b90b",
            "value": 1
          }
        },
        "66ea4426547e478783f42c901667189f": {
          "model_module": "@jupyter-widgets/base",
          "model_module_version": "1.2.0",
          "model_name": "LayoutModel",
          "state": {
            "_model_module": "@jupyter-widgets/base",
            "_model_module_version": "1.2.0",
            "_model_name": "LayoutModel",
            "_view_count": null,
            "_view_module": "@jupyter-widgets/base",
            "_view_module_version": "1.2.0",
            "_view_name": "LayoutView",
            "align_content": null,
            "align_items": null,
            "align_self": null,
            "border": null,
            "bottom": null,
            "display": null,
            "flex": null,
            "flex_flow": null,
            "grid_area": null,
            "grid_auto_columns": null,
            "grid_auto_flow": null,
            "grid_auto_rows": null,
            "grid_column": null,
            "grid_gap": null,
            "grid_row": null,
            "grid_template_areas": null,
            "grid_template_columns": null,
            "grid_template_rows": null,
            "height": null,
            "justify_content": null,
            "justify_items": null,
            "left": null,
            "margin": null,
            "max_height": null,
            "max_width": null,
            "min_height": null,
            "min_width": null,
            "object_fit": null,
            "object_position": null,
            "order": null,
            "overflow": null,
            "overflow_x": null,
            "overflow_y": null,
            "padding": null,
            "right": null,
            "top": null,
            "visibility": null,
            "width": null
          }
        },
        "ab0222b30f89437d91ec3fb34a04c889": {
          "model_module": "@jupyter-widgets/base",
          "model_module_version": "1.2.0",
          "model_name": "LayoutModel",
          "state": {
            "_model_module": "@jupyter-widgets/base",
            "_model_module_version": "1.2.0",
            "_model_name": "LayoutModel",
            "_view_count": null,
            "_view_module": "@jupyter-widgets/base",
            "_view_module_version": "1.2.0",
            "_view_name": "LayoutView",
            "align_content": null,
            "align_items": null,
            "align_self": null,
            "border": null,
            "bottom": null,
            "display": null,
            "flex": null,
            "flex_flow": null,
            "grid_area": null,
            "grid_auto_columns": null,
            "grid_auto_flow": null,
            "grid_auto_rows": null,
            "grid_column": null,
            "grid_gap": null,
            "grid_row": null,
            "grid_template_areas": null,
            "grid_template_columns": null,
            "grid_template_rows": null,
            "height": null,
            "justify_content": null,
            "justify_items": null,
            "left": null,
            "margin": null,
            "max_height": null,
            "max_width": null,
            "min_height": null,
            "min_width": null,
            "object_fit": null,
            "object_position": null,
            "order": null,
            "overflow": null,
            "overflow_x": null,
            "overflow_y": null,
            "padding": null,
            "right": null,
            "top": null,
            "visibility": null,
            "width": null
          }
        },
        "b6eda8434d5649a2aee1f8d66d07b15f": {
          "model_module": "@jupyter-widgets/base",
          "model_module_version": "1.2.0",
          "model_name": "LayoutModel",
          "state": {
            "_model_module": "@jupyter-widgets/base",
            "_model_module_version": "1.2.0",
            "_model_name": "LayoutModel",
            "_view_count": null,
            "_view_module": "@jupyter-widgets/base",
            "_view_module_version": "1.2.0",
            "_view_name": "LayoutView",
            "align_content": null,
            "align_items": null,
            "align_self": null,
            "border": null,
            "bottom": null,
            "display": null,
            "flex": null,
            "flex_flow": null,
            "grid_area": null,
            "grid_auto_columns": null,
            "grid_auto_flow": null,
            "grid_auto_rows": null,
            "grid_column": null,
            "grid_gap": null,
            "grid_row": null,
            "grid_template_areas": null,
            "grid_template_columns": null,
            "grid_template_rows": null,
            "height": null,
            "justify_content": null,
            "justify_items": null,
            "left": null,
            "margin": null,
            "max_height": null,
            "max_width": null,
            "min_height": null,
            "min_width": null,
            "object_fit": null,
            "object_position": null,
            "order": null,
            "overflow": null,
            "overflow_x": null,
            "overflow_y": null,
            "padding": null,
            "right": null,
            "top": null,
            "visibility": null,
            "width": null
          }
        },
        "c650882eefce4fc0a9f92babdceac726": {
          "model_module": "@jupyter-widgets/base",
          "model_module_version": "1.2.0",
          "model_name": "LayoutModel",
          "state": {
            "_model_module": "@jupyter-widgets/base",
            "_model_module_version": "1.2.0",
            "_model_name": "LayoutModel",
            "_view_count": null,
            "_view_module": "@jupyter-widgets/base",
            "_view_module_version": "1.2.0",
            "_view_name": "LayoutView",
            "align_content": null,
            "align_items": null,
            "align_self": null,
            "border": null,
            "bottom": null,
            "display": null,
            "flex": null,
            "flex_flow": null,
            "grid_area": null,
            "grid_auto_columns": null,
            "grid_auto_flow": null,
            "grid_auto_rows": null,
            "grid_column": null,
            "grid_gap": null,
            "grid_row": null,
            "grid_template_areas": null,
            "grid_template_columns": null,
            "grid_template_rows": null,
            "height": null,
            "justify_content": null,
            "justify_items": null,
            "left": null,
            "margin": null,
            "max_height": null,
            "max_width": null,
            "min_height": null,
            "min_width": null,
            "object_fit": null,
            "object_position": null,
            "order": null,
            "overflow": null,
            "overflow_x": null,
            "overflow_y": null,
            "padding": null,
            "right": null,
            "top": null,
            "visibility": null,
            "width": null
          }
        },
        "d57409d78ba74888b4dd118f615eb079": {
          "model_module": "@jupyter-widgets/controls",
          "model_module_version": "1.5.0",
          "model_name": "HBoxModel",
          "state": {
            "_dom_classes": [],
            "_model_module": "@jupyter-widgets/controls",
            "_model_module_version": "1.5.0",
            "_model_name": "HBoxModel",
            "_view_count": null,
            "_view_module": "@jupyter-widgets/controls",
            "_view_module_version": "1.5.0",
            "_view_name": "HBoxView",
            "box_style": "",
            "children": [
              "IPY_MODEL_5e1efc6b92454feda5b7f11176581da3",
              "IPY_MODEL_62ad40cc10f14ccf9f253ef2f5b19644",
              "IPY_MODEL_0b91c4b1a4a24b608c04c7b36b773a94"
            ],
            "layout": "IPY_MODEL_b6eda8434d5649a2aee1f8d66d07b15f"
          }
        },
        "e628e07cf90d4e4aa1078f76b1f3241c": {
          "model_module": "@jupyter-widgets/controls",
          "model_module_version": "1.5.0",
          "model_name": "DescriptionStyleModel",
          "state": {
            "_model_module": "@jupyter-widgets/controls",
            "_model_module_version": "1.5.0",
            "_model_name": "DescriptionStyleModel",
            "_view_count": null,
            "_view_module": "@jupyter-widgets/base",
            "_view_module_version": "1.2.0",
            "_view_name": "StyleView",
            "description_width": ""
          }
        }
      }
    }
  },
  "nbformat": 4,
  "nbformat_minor": 0
}
